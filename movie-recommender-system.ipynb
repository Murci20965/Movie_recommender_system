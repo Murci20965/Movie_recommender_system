{
 "cells": [
  {
   "cell_type": "code",
   "execution_count": 2,
   "metadata": {
    "execution": {
     "iopub.execute_input": "2024-06-20T17:06:34.355339Z",
     "iopub.status.busy": "2024-06-20T17:06:34.354867Z",
     "iopub.status.idle": "2024-06-20T17:06:47.320957Z",
     "shell.execute_reply": "2024-06-20T17:06:47.319683Z",
     "shell.execute_reply.started": "2024-06-20T17:06:34.355309Z"
    }
   },
   "outputs": [
    {
     "name": "stdout",
     "output_type": "stream",
     "text": [
      "Requirement already satisfied: scikit-surprise in /opt/conda/lib/python3.10/site-packages (1.1.4)\n",
      "Requirement already satisfied: joblib>=1.2.0 in /opt/conda/lib/python3.10/site-packages (from scikit-surprise) (1.4.2)\n",
      "Requirement already satisfied: numpy>=1.19.5 in /opt/conda/lib/python3.10/site-packages (from scikit-surprise) (1.26.4)\n",
      "Requirement already satisfied: scipy>=1.6.0 in /opt/conda/lib/python3.10/site-packages (from scikit-surprise) (1.11.4)\n"
     ]
    }
   ],
   "source": [
    "!pip install scikit-surprise"
   ]
  },
  {
   "cell_type": "markdown",
   "metadata": {},
   "source": [
    "### PACKAGES"
   ]
  },
  {
   "cell_type": "code",
   "execution_count": 1,
   "metadata": {
    "execution": {
     "iopub.execute_input": "2024-06-23T22:44:58.929419Z",
     "iopub.status.busy": "2024-06-23T22:44:58.929067Z",
     "iopub.status.idle": "2024-06-23T22:45:00.166220Z",
     "shell.execute_reply": "2024-06-23T22:45:00.165415Z",
     "shell.execute_reply.started": "2024-06-23T22:44:58.929379Z"
    }
   },
   "outputs": [],
   "source": [
    "import numpy as np\n",
    "import pandas as pd\n",
    "from scipy.sparse import csr_matrix\n",
    "import matplotlib.pyplot as plt\n",
    "import seaborn as sns\n",
    "from scipy.sparse.linalg import svds\n",
    "from surprise import Reader, Dataset, SVD, accuracy\n",
    "from surprise.model_selection import cross_validate, GridSearchCV\n",
    "from surprise.model_selection import train_test_split\n",
    "from sklearn.metrics.pairwise import cosine_similarity\n",
    "from sklearn.metrics import mean_squared_error, mean_absolute_error\n",
    "from sklearn.decomposition import TruncatedSVD\n",
    "import warnings\n",
    "import pickle\n",
    "\n",
    "# Suppress warnings\n",
    "warnings.filterwarnings(\"ignore\")"
   ]
  },
  {
   "cell_type": "markdown",
   "metadata": {},
   "source": [
    "### UNDERSTANDING THE DATA\n",
    "\n",
    "In this project, I will be building a movie recommendation system using collaborative filtering techniques. To get started, I need to load several datasets that contain the necessary information for training and testing the recommendation model.\n",
    "\n",
    "1. **genome_scores.csv**: This file contains scores for different movie tags, which can help in understanding movie attributes.\n",
    "2. **genome_tags.csv**: This file provides the tags associated with the movies.\n",
    "3. **imdb_data.csv**: This file includes additional information about movies from IMDb.\n",
    "4. **links.csv**: This file links the movie IDs with their corresponding IMDb and TMDb IDs.\n",
    "5. **tags.csv**: This file includes user-provided tags for movies.\n",
    "6. **train.csv**: This is the training dataset containing user ratings for different movies.\n",
    "7. **test.csv**: This is the test dataset for which we need to predict user ratings.\n",
    "8. **movies.csv**: This file contains basic information about movies, including their titles and genres.\n",
    "\n",
    "By loading these datasets into Pandas DataFrames, specifically the train.csv, test.scv, and movies.csv, I will be able to manipulate and analyze the data as needed for building the recommendation system.\n"
   ]
  },
  {
   "cell_type": "code",
   "execution_count": 2,
   "metadata": {
    "execution": {
     "iopub.execute_input": "2024-06-23T22:45:07.194709Z",
     "iopub.status.busy": "2024-06-23T22:45:07.194232Z",
     "iopub.status.idle": "2024-06-23T22:45:26.356799Z",
     "shell.execute_reply": "2024-06-23T22:45:26.355995Z",
     "shell.execute_reply.started": "2024-06-23T22:45:07.194681Z"
    }
   },
   "outputs": [],
   "source": [
    "# Load datasets\n",
    "genome_scores = pd.read_csv('/kaggle/input/alx-movie-recommendation-project-2024/genome_scores.csv')\n",
    "genome_tags = pd.read_csv('/kaggle/input/alx-movie-recommendation-project-2024/genome_tags.csv')\n",
    "imdb_data = pd.read_csv('/kaggle/input/alx-movie-recommendation-project-2024/imdb_data.csv')\n",
    "links = pd.read_csv('/kaggle/input/alx-movie-recommendation-project-2024/links.csv')\n",
    "tags = pd.read_csv('/kaggle/input/alx-movie-recommendation-project-2024/tags.csv')\n",
    "train = pd.read_csv('/kaggle/input/alx-movie-recommendation-project-2024/train.csv')\n",
    "test = pd.read_csv('/kaggle/input/alx-movie-recommendation-project-2024/test.csv')\n",
    "movies = pd.read_csv('/kaggle/input/alx-movie-recommendation-project-2024/movies.csv')"
   ]
  },
  {
   "cell_type": "markdown",
   "metadata": {},
   "source": [
    "### VIEW THE FIRST FEW ROWS OF THE DATASETS OF INTEREST\n",
    "\n",
    "To get a better understanding of the structure and contents of the train, test, and movies datasets, I will display the first few rows using the `head()` method. This will help me verify that the data has been loaded correctly and will provide insight into the columns and types of data available.\n",
    "\n",
    "By examining the initial rows, I can ensure that the datasets contains the expected columns. This will also allow me to observe the format of the ratings provided by users for different movies.\n"
   ]
  },
  {
   "cell_type": "code",
   "execution_count": 3,
   "metadata": {
    "execution": {
     "iopub.execute_input": "2024-06-23T22:45:30.938441Z",
     "iopub.status.busy": "2024-06-23T22:45:30.938072Z",
     "iopub.status.idle": "2024-06-23T22:45:30.961497Z",
     "shell.execute_reply": "2024-06-23T22:45:30.960652Z",
     "shell.execute_reply.started": "2024-06-23T22:45:30.938414Z"
    }
   },
   "outputs": [
    {
     "data": {
      "text/html": [
       "<div>\n",
       "<style scoped>\n",
       "    .dataframe tbody tr th:only-of-type {\n",
       "        vertical-align: middle;\n",
       "    }\n",
       "\n",
       "    .dataframe tbody tr th {\n",
       "        vertical-align: top;\n",
       "    }\n",
       "\n",
       "    .dataframe thead th {\n",
       "        text-align: right;\n",
       "    }\n",
       "</style>\n",
       "<table border=\"1\" class=\"dataframe\">\n",
       "  <thead>\n",
       "    <tr style=\"text-align: right;\">\n",
       "      <th></th>\n",
       "      <th>userId</th>\n",
       "      <th>movieId</th>\n",
       "      <th>rating</th>\n",
       "      <th>timestamp</th>\n",
       "    </tr>\n",
       "  </thead>\n",
       "  <tbody>\n",
       "    <tr>\n",
       "      <th>0</th>\n",
       "      <td>5163</td>\n",
       "      <td>57669</td>\n",
       "      <td>4.0</td>\n",
       "      <td>1518349992</td>\n",
       "    </tr>\n",
       "    <tr>\n",
       "      <th>1</th>\n",
       "      <td>106343</td>\n",
       "      <td>5</td>\n",
       "      <td>4.5</td>\n",
       "      <td>1206238739</td>\n",
       "    </tr>\n",
       "    <tr>\n",
       "      <th>2</th>\n",
       "      <td>146790</td>\n",
       "      <td>5459</td>\n",
       "      <td>5.0</td>\n",
       "      <td>1076215539</td>\n",
       "    </tr>\n",
       "    <tr>\n",
       "      <th>3</th>\n",
       "      <td>106362</td>\n",
       "      <td>32296</td>\n",
       "      <td>2.0</td>\n",
       "      <td>1423042565</td>\n",
       "    </tr>\n",
       "    <tr>\n",
       "      <th>4</th>\n",
       "      <td>9041</td>\n",
       "      <td>366</td>\n",
       "      <td>3.0</td>\n",
       "      <td>833375837</td>\n",
       "    </tr>\n",
       "  </tbody>\n",
       "</table>\n",
       "</div>"
      ],
      "text/plain": [
       "   userId  movieId  rating   timestamp\n",
       "0    5163    57669     4.0  1518349992\n",
       "1  106343        5     4.5  1206238739\n",
       "2  146790     5459     5.0  1076215539\n",
       "3  106362    32296     2.0  1423042565\n",
       "4    9041      366     3.0   833375837"
      ]
     },
     "execution_count": 3,
     "metadata": {},
     "output_type": "execute_result"
    }
   ],
   "source": [
    "train.head()"
   ]
  },
  {
   "cell_type": "code",
   "execution_count": 4,
   "metadata": {
    "execution": {
     "iopub.execute_input": "2024-06-23T22:45:33.564940Z",
     "iopub.status.busy": "2024-06-23T22:45:33.564596Z",
     "iopub.status.idle": "2024-06-23T22:45:33.574019Z",
     "shell.execute_reply": "2024-06-23T22:45:33.572898Z",
     "shell.execute_reply.started": "2024-06-23T22:45:33.564912Z"
    }
   },
   "outputs": [
    {
     "data": {
      "text/html": [
       "<div>\n",
       "<style scoped>\n",
       "    .dataframe tbody tr th:only-of-type {\n",
       "        vertical-align: middle;\n",
       "    }\n",
       "\n",
       "    .dataframe tbody tr th {\n",
       "        vertical-align: top;\n",
       "    }\n",
       "\n",
       "    .dataframe thead th {\n",
       "        text-align: right;\n",
       "    }\n",
       "</style>\n",
       "<table border=\"1\" class=\"dataframe\">\n",
       "  <thead>\n",
       "    <tr style=\"text-align: right;\">\n",
       "      <th></th>\n",
       "      <th>userId</th>\n",
       "      <th>movieId</th>\n",
       "    </tr>\n",
       "  </thead>\n",
       "  <tbody>\n",
       "    <tr>\n",
       "      <th>0</th>\n",
       "      <td>1</td>\n",
       "      <td>2011</td>\n",
       "    </tr>\n",
       "    <tr>\n",
       "      <th>1</th>\n",
       "      <td>1</td>\n",
       "      <td>4144</td>\n",
       "    </tr>\n",
       "    <tr>\n",
       "      <th>2</th>\n",
       "      <td>1</td>\n",
       "      <td>5767</td>\n",
       "    </tr>\n",
       "    <tr>\n",
       "      <th>3</th>\n",
       "      <td>1</td>\n",
       "      <td>6711</td>\n",
       "    </tr>\n",
       "    <tr>\n",
       "      <th>4</th>\n",
       "      <td>1</td>\n",
       "      <td>7318</td>\n",
       "    </tr>\n",
       "  </tbody>\n",
       "</table>\n",
       "</div>"
      ],
      "text/plain": [
       "   userId  movieId\n",
       "0       1     2011\n",
       "1       1     4144\n",
       "2       1     5767\n",
       "3       1     6711\n",
       "4       1     7318"
      ]
     },
     "execution_count": 4,
     "metadata": {},
     "output_type": "execute_result"
    }
   ],
   "source": [
    "test.head()"
   ]
  },
  {
   "cell_type": "code",
   "execution_count": 5,
   "metadata": {
    "execution": {
     "iopub.execute_input": "2024-06-23T22:45:36.392970Z",
     "iopub.status.busy": "2024-06-23T22:45:36.392267Z",
     "iopub.status.idle": "2024-06-23T22:45:36.402603Z",
     "shell.execute_reply": "2024-06-23T22:45:36.401785Z",
     "shell.execute_reply.started": "2024-06-23T22:45:36.392932Z"
    }
   },
   "outputs": [
    {
     "data": {
      "text/html": [
       "<div>\n",
       "<style scoped>\n",
       "    .dataframe tbody tr th:only-of-type {\n",
       "        vertical-align: middle;\n",
       "    }\n",
       "\n",
       "    .dataframe tbody tr th {\n",
       "        vertical-align: top;\n",
       "    }\n",
       "\n",
       "    .dataframe thead th {\n",
       "        text-align: right;\n",
       "    }\n",
       "</style>\n",
       "<table border=\"1\" class=\"dataframe\">\n",
       "  <thead>\n",
       "    <tr style=\"text-align: right;\">\n",
       "      <th></th>\n",
       "      <th>movieId</th>\n",
       "      <th>title</th>\n",
       "      <th>genres</th>\n",
       "    </tr>\n",
       "  </thead>\n",
       "  <tbody>\n",
       "    <tr>\n",
       "      <th>0</th>\n",
       "      <td>1</td>\n",
       "      <td>Toy Story (1995)</td>\n",
       "      <td>Adventure|Animation|Children|Comedy|Fantasy</td>\n",
       "    </tr>\n",
       "    <tr>\n",
       "      <th>1</th>\n",
       "      <td>2</td>\n",
       "      <td>Jumanji (1995)</td>\n",
       "      <td>Adventure|Children|Fantasy</td>\n",
       "    </tr>\n",
       "    <tr>\n",
       "      <th>2</th>\n",
       "      <td>3</td>\n",
       "      <td>Grumpier Old Men (1995)</td>\n",
       "      <td>Comedy|Romance</td>\n",
       "    </tr>\n",
       "    <tr>\n",
       "      <th>3</th>\n",
       "      <td>4</td>\n",
       "      <td>Waiting to Exhale (1995)</td>\n",
       "      <td>Comedy|Drama|Romance</td>\n",
       "    </tr>\n",
       "    <tr>\n",
       "      <th>4</th>\n",
       "      <td>5</td>\n",
       "      <td>Father of the Bride Part II (1995)</td>\n",
       "      <td>Comedy</td>\n",
       "    </tr>\n",
       "  </tbody>\n",
       "</table>\n",
       "</div>"
      ],
      "text/plain": [
       "   movieId                               title  \\\n",
       "0        1                    Toy Story (1995)   \n",
       "1        2                      Jumanji (1995)   \n",
       "2        3             Grumpier Old Men (1995)   \n",
       "3        4            Waiting to Exhale (1995)   \n",
       "4        5  Father of the Bride Part II (1995)   \n",
       "\n",
       "                                        genres  \n",
       "0  Adventure|Animation|Children|Comedy|Fantasy  \n",
       "1                   Adventure|Children|Fantasy  \n",
       "2                               Comedy|Romance  \n",
       "3                         Comedy|Drama|Romance  \n",
       "4                                       Comedy  "
      ]
     },
     "execution_count": 5,
     "metadata": {},
     "output_type": "execute_result"
    }
   ],
   "source": [
    "movies.head()"
   ]
  },
  {
   "cell_type": "markdown",
   "metadata": {},
   "source": [
    "### CHECK FOR ANY MISSING VALUES IN THESE DATASETS\n",
    "\n",
    "It's important to check for missing values in the datasets to ensure data quality and completeness. Missing values can affect the performance of the recommendation system, so they need to be addressed appropriately.\n",
    "\n",
    "In this step, I will:\n",
    "1. **Train Dataset**: Check for missing values in the training dataset to ensure that all user ratings are present.\n",
    "2. **Test Dataset**: Verify if there are any missing values in the test dataset, which could affect the prediction process.\n",
    "3. **Movies Dataset**: Examine the movies dataset for any missing information about the movies, such as titles or genres.\n",
    "\n",
    "By printing the count of missing values for each column in these datasets, I can identify any data cleaning steps that might be necessary before proceeding with the analysis and model building.\n"
   ]
  },
  {
   "cell_type": "code",
   "execution_count": 6,
   "metadata": {
    "execution": {
     "iopub.execute_input": "2024-06-23T22:45:40.091076Z",
     "iopub.status.busy": "2024-06-23T22:45:40.090263Z",
     "iopub.status.idle": "2024-06-23T22:45:40.151091Z",
     "shell.execute_reply": "2024-06-23T22:45:40.150194Z",
     "shell.execute_reply.started": "2024-06-23T22:45:40.091043Z"
    }
   },
   "outputs": [
    {
     "name": "stdout",
     "output_type": "stream",
     "text": [
      "Missing values in train:\n",
      "userId       0\n",
      "movieId      0\n",
      "rating       0\n",
      "timestamp    0\n",
      "dtype: int64\n",
      "\n",
      "Missing values in test:\n",
      "userId     0\n",
      "movieId    0\n",
      "dtype: int64\n",
      "\n",
      "Missing values in movies:\n",
      "movieId    0\n",
      "title      0\n",
      "genres     0\n",
      "dtype: int64\n"
     ]
    }
   ],
   "source": [
    "print(\"Missing values in train:\")\n",
    "print(train.isnull().sum())\n",
    "\n",
    "print(\"\\nMissing values in test:\")\n",
    "print(test.isnull().sum())\n",
    "\n",
    "print(\"\\nMissing values in movies:\")\n",
    "print(movies.isnull().sum())"
   ]
  },
  {
   "cell_type": "markdown",
   "metadata": {},
   "source": [
    "### SUMMARY STATISTICS\n",
    "\n",
    "To gain a deeper understanding of the datasets, I will examine their summary statistics. This will provide insights into the distribution and characteristics of the data, such as central tendencies and variability.\n",
    "\n",
    "In this step, I will:\n",
    "1. **Train Dataset**: Print summary statistics to understand the distribution of user ratings, including count, mean, standard deviation, min, max, and quartiles.\n",
    "2. **Test Dataset**: Check the summary statistics for the test dataset to see the distribution of user and movie IDs.\n",
    "3. **Movies Dataset**: Analyze the summary statistics for the movies dataset, which will primarily include information about the movie IDs.\n",
    "\n",
    "By looking at these statistics, I can identify any potential outliers, data skewness, or other anomalies that might need to be addressed before building the recommendation model.\n"
   ]
  },
  {
   "cell_type": "code",
   "execution_count": 7,
   "metadata": {
    "execution": {
     "iopub.execute_input": "2024-06-23T22:45:43.309341Z",
     "iopub.status.busy": "2024-06-23T22:45:43.308995Z",
     "iopub.status.idle": "2024-06-23T22:45:44.976996Z",
     "shell.execute_reply": "2024-06-23T22:45:44.975913Z",
     "shell.execute_reply.started": "2024-06-23T22:45:43.309314Z"
    }
   },
   "outputs": [
    {
     "name": "stdout",
     "output_type": "stream",
     "text": [
      "Summary statistics for train:\n",
      "             userId       movieId        rating     timestamp\n",
      "count  1.000004e+07  1.000004e+07  1.000004e+07  1.000004e+07\n",
      "mean   8.119909e+04  2.138911e+04  3.533395e+00  1.215677e+09\n",
      "std    4.679359e+04  3.919578e+04  1.061124e+00  2.268921e+08\n",
      "min    1.000000e+00  1.000000e+00  5.000000e-01  7.896520e+08\n",
      "25%    4.051000e+04  1.197000e+03  3.000000e+00  1.011742e+09\n",
      "50%    8.091400e+04  2.947000e+03  3.500000e+00  1.199019e+09\n",
      "75%    1.215790e+05  8.630000e+03  4.000000e+00  1.447242e+09\n",
      "max    1.625410e+05  2.091710e+05  5.000000e+00  1.574328e+09\n",
      "\n",
      "Summary statistics for test:\n",
      "             userId       movieId\n",
      "count  5.000019e+06  5.000019e+06\n",
      "mean   8.121647e+04  2.136294e+04\n",
      "std    4.679711e+04  3.918389e+04\n",
      "min    1.000000e+00  1.000000e+00\n",
      "25%    4.051850e+04  1.196000e+03\n",
      "50%    8.094800e+04  2.946000e+03\n",
      "75%    1.215990e+05  8.622000e+03\n",
      "max    1.625410e+05  2.091630e+05\n",
      "\n",
      "Summary statistics for movies:\n",
      "             movieId\n",
      "count   62423.000000\n",
      "mean   122220.387646\n",
      "std     63264.744844\n",
      "min         1.000000\n",
      "25%     82146.500000\n",
      "50%    138022.000000\n",
      "75%    173222.000000\n",
      "max    209171.000000\n"
     ]
    }
   ],
   "source": [
    "print(\"Summary statistics for train:\")\n",
    "print(train.describe())\n",
    "\n",
    "print(\"\\nSummary statistics for test:\")\n",
    "print(test.describe())\n",
    "\n",
    "print(\"\\nSummary statistics for movies:\")\n",
    "print(movies.describe())"
   ]
  },
  {
   "cell_type": "markdown",
   "metadata": {},
   "source": [
    "### Dataset Dimensions\n",
    "\n",
    "Understanding the size and dimensions of the datasets is crucial for planning the analysis and model building steps. By printing the shape of each dataset, I can see the number of rows and columns they contain, which helps in understanding the scale of the data.\n",
    "\n",
    "In this step, I will:\n",
    "1. **Train Dataset**: Print the shape to know the number of user ratings available for training the model.\n",
    "2. **Test Dataset**: Check the shape to see how many predictions need to be made.\n",
    "3. **Movies Dataset**: Examine the shape to understand the number of movies available and their associated information.\n",
    "\n",
    "These dimensions will provide a sense of the dataset sizes and help in managing computational resources effectively.\n"
   ]
  },
  {
   "cell_type": "code",
   "execution_count": 8,
   "metadata": {
    "execution": {
     "iopub.execute_input": "2024-06-23T22:45:51.232061Z",
     "iopub.status.busy": "2024-06-23T22:45:51.231700Z",
     "iopub.status.idle": "2024-06-23T22:45:51.237349Z",
     "shell.execute_reply": "2024-06-23T22:45:51.236458Z",
     "shell.execute_reply.started": "2024-06-23T22:45:51.232034Z"
    }
   },
   "outputs": [
    {
     "name": "stdout",
     "output_type": "stream",
     "text": [
      "train:\n",
      "(10000038, 4)\n",
      "\n",
      "test:\n",
      "(5000019, 2)\n",
      "\n",
      "movies:\n",
      "(62423, 3)\n"
     ]
    }
   ],
   "source": [
    "print(\"train:\")\n",
    "print(train.shape)\n",
    "\n",
    "print(\"\\ntest:\")\n",
    "print(test.shape)\n",
    "\n",
    "print(\"\\nmovies:\")\n",
    "print(movies.shape)"
   ]
  },
  {
   "cell_type": "markdown",
   "metadata": {},
   "source": [
    "## EXPLORATORY DATA ANALYSIS**"
   ]
  },
  {
   "cell_type": "markdown",
   "metadata": {},
   "source": [
    "### Dataset Insights\n",
    "\n",
    "To gain further insights into the training dataset, I will calculate and print some key statistics:\n",
    "\n",
    "1. **Number of Ratings**: The total number of ratings provided by users.\n",
    "2. **Number of Unique Movies**: The total number of unique movies that have been rated.\n",
    "3. **Number of Unique Users**: The total number of unique users who have provided ratings.\n",
    "4. **Average Number of Ratings per User**: The average number of ratings given by each user.\n",
    "5. **Average Number of Ratings per Movie**: The average number of ratings received by each movie.\n",
    "\n",
    "These statistics will help in understanding the distribution of ratings among users and movies, providing a clearer picture of the dataset's structure and characteristics. This information is crucial for designing an effective recommendation model.\n",
    "**Analyzing and visualizing the dataset**"
   ]
  },
  {
   "cell_type": "code",
   "execution_count": 9,
   "metadata": {
    "execution": {
     "iopub.execute_input": "2024-06-23T22:45:57.708362Z",
     "iopub.status.busy": "2024-06-23T22:45:57.707948Z",
     "iopub.status.idle": "2024-06-23T22:45:57.862029Z",
     "shell.execute_reply": "2024-06-23T22:45:57.861067Z",
     "shell.execute_reply.started": "2024-06-23T22:45:57.708329Z"
    }
   },
   "outputs": [
    {
     "name": "stdout",
     "output_type": "stream",
     "text": [
      "Number of ratings: 10000038\n",
      "Number of unique movieId's: 48213\n",
      "Number of unique users: 162541\n",
      "Average number of ratings per user: 61.52\n",
      "Average number of ratings per movie: 207.41\n"
     ]
    }
   ],
   "source": [
    "# Number of ratings\n",
    "num_ratings = train.shape[0]\n",
    "\n",
    "# Number of unique movieId's\n",
    "num_unique_movies = train['movieId'].nunique()\n",
    "\n",
    "# Number of unique users\n",
    "num_unique_users = train['userId'].nunique()\n",
    "\n",
    "# Average number of ratings per user\n",
    "avg_ratings_per_user = num_ratings / num_unique_users\n",
    "\n",
    "# Average number of ratings per movie\n",
    "avg_ratings_per_movie = num_ratings / num_unique_movies\n",
    "\n",
    "print(f\"Number of ratings: {num_ratings}\")\n",
    "print(f\"Number of unique movieId's: {num_unique_movies}\")\n",
    "print(f\"Number of unique users: {num_unique_users}\")\n",
    "print(f\"Average number of ratings per user: {avg_ratings_per_user:.2f}\")\n",
    "print(f\"Average number of ratings per movie: {avg_ratings_per_movie:.2f}\")"
   ]
  },
  {
   "cell_type": "markdown",
   "metadata": {},
   "source": [
    "### Distribution of Movie Ratings\n",
    "\n",
    "Visualizing the distribution of movie ratings can provide valuable insights into the data. In this step, I will create a bar plot to display the frequency of each rating in the training dataset.\n",
    "\n",
    "Using Seaborn's `countplot` function:\n",
    "- **X-axis**: Represents the ratings given by users.\n",
    "- **Y-axis**: Represents the count of each rating.\n",
    "\n",
    "The plot will help to understand the overall distribution of ratings, such as which ratings are most common and if there is any skewness in the data. This understanding is essential for building and evaluating the recommendation model.\n"
   ]
  },
  {
   "cell_type": "code",
   "execution_count": 10,
   "metadata": {
    "execution": {
     "iopub.execute_input": "2024-06-23T22:46:02.412015Z",
     "iopub.status.busy": "2024-06-23T22:46:02.411323Z",
     "iopub.status.idle": "2024-06-23T22:46:03.498126Z",
     "shell.execute_reply": "2024-06-23T22:46:03.497282Z",
     "shell.execute_reply.started": "2024-06-23T22:46:02.411986Z"
    }
   },
   "outputs": [
    {
     "data": {
      "image/png": "[encoded data removed]",
      "text/plain": [
       "<Figure size 1000x600 with 1 Axes>"
      ]
     },
     "metadata": {},
     "output_type": "display_data"
    }
   ],
   "source": [
    "# Plotting the distribution of movie ratings using seaborn\n",
    "plt.figure(figsize=(10, 6))\n",
    "sns.countplot(x=\"rating\", data=train, palette=\"viridis\")\n",
    "plt.title(\"Distribution of Movie Ratings\", fontsize=14)\n",
    "plt.xlabel(\"Rating\")\n",
    "plt.ylabel(\"Count\")\n",
    "plt.show()"
   ]
  },
  {
   "cell_type": "markdown",
   "metadata": {},
   "source": [
    "### Average Ratings Analysis\n",
    "\n",
    "Understanding the average ratings can provide insights into user behavior and movie popularity. Here, I will calculate and print two important metrics:\n",
    "\n",
    "1. **Mean Global Rating**: The overall average rating across all users and movies.\n",
    "2. **Mean Rating per User**: The average rating given by each user, calculated by first averaging ratings per user and then finding the overall mean.\n",
    "\n",
    "These metrics will help in understanding the general rating tendencies within the dataset. High or low average ratings can influence the design of the recommendation algorithm.\n"
   ]
  },
  {
   "cell_type": "code",
   "execution_count": 11,
   "metadata": {
    "execution": {
     "iopub.execute_input": "2024-06-23T22:46:09.138748Z",
     "iopub.status.busy": "2024-06-23T22:46:09.138379Z",
     "iopub.status.idle": "2024-06-23T22:46:09.567359Z",
     "shell.execute_reply": "2024-06-23T22:46:09.566284Z",
     "shell.execute_reply.started": "2024-06-23T22:46:09.138721Z"
    }
   },
   "outputs": [
    {
     "name": "stdout",
     "output_type": "stream",
     "text": [
      "Mean global rating: 3.53\n",
      "Mean rating per user: 3.68\n"
     ]
    }
   ],
   "source": [
    "# Mean global rating\n",
    "mean_global_rating = train['rating'].mean()\n",
    "\n",
    "# Mean rating per user\n",
    "mean_rating_per_user = train.groupby('userId')['rating'].mean().mean()\n",
    "\n",
    "print(f\"Mean global rating: {mean_global_rating:.2f}\")\n",
    "print(f\"Mean rating per user: {mean_rating_per_user:.2f}\")"
   ]
  },
  {
   "cell_type": "markdown",
   "metadata": {},
   "source": [
    "### Most Rated Movies\n",
    "\n",
    "To identify the most popular movies in the dataset, I will merge the `train` dataset with the `movies` dataset on the `movieId` column. This will allow me to access movie titles along with their ratings.\n",
    "\n",
    "In this step, I will:\n",
    "1. Merge the `train` dataset with the `movies` dataset to include movie titles.\n",
    "2. Count the number of ratings for each movie and display the top 10 most rated movies.\n",
    "\n",
    "This analysis will reveal which movies have received the most attention from users, providing insights into popular movie choices and potential biases in the dataset.\n"
   ]
  },
  {
   "cell_type": "code",
   "execution_count": 12,
   "metadata": {
    "execution": {
     "iopub.execute_input": "2024-06-23T22:46:15.325576Z",
     "iopub.status.busy": "2024-06-23T22:46:15.324923Z",
     "iopub.status.idle": "2024-06-23T22:46:17.944595Z",
     "shell.execute_reply": "2024-06-23T22:46:17.943622Z",
     "shell.execute_reply.started": "2024-06-23T22:46:15.325545Z"
    }
   },
   "outputs": [
    {
     "data": {
      "text/plain": [
       "title\n",
       "Shawshank Redemption, The (1994)             32831\n",
       "Forrest Gump (1994)                          32383\n",
       "Pulp Fiction (1994)                          31697\n",
       "Silence of the Lambs, The (1991)             29444\n",
       "Matrix, The (1999)                           29014\n",
       "Star Wars: Episode IV - A New Hope (1977)    27560\n",
       "Jurassic Park (1993)                         25518\n",
       "Schindler's List (1993)                      24004\n",
       "Braveheart (1995)                            23722\n",
       "Fight Club (1999)                            23536\n",
       "Name: count, dtype: int64"
      ]
     },
     "execution_count": 12,
     "metadata": {},
     "output_type": "execute_result"
    }
   ],
   "source": [
    "movie_ratings = train.merge(movies, on='movieId')\n",
    "movie_ratings['title'].value_counts()[0:10]"
   ]
  },
  {
   "cell_type": "markdown",
   "metadata": {},
   "source": [
    "### Lowest Rated Movie\n",
    "\n",
    "In this analysis, I will determine the movie with the lowest average rating among users. To do this, I will:\n",
    "1. Group the `train` dataset by `movieId` and calculate the mean rating for each movie.\n",
    "2. Identify the movie with the lowest average rating.\n",
    "3. Fetch additional information about the lowest rated movie from the `movies` dataset.\n",
    "\n",
    "This analysis can reveal insights into movies that may have performed poorly in terms of user ratings, which could be due to various factors such as content, genre, or user preferences."
   ]
  },
  {
   "cell_type": "code",
   "execution_count": 13,
   "metadata": {
    "execution": {
     "iopub.execute_input": "2024-06-23T22:46:22.665551Z",
     "iopub.status.busy": "2024-06-23T22:46:22.664420Z",
     "iopub.status.idle": "2024-06-23T22:46:22.945337Z",
     "shell.execute_reply": "2024-06-23T22:46:22.944442Z",
     "shell.execute_reply.started": "2024-06-23T22:46:22.665517Z"
    }
   },
   "outputs": [
    {
     "data": {
      "text/html": [
       "<div>\n",
       "<style scoped>\n",
       "    .dataframe tbody tr th:only-of-type {\n",
       "        vertical-align: middle;\n",
       "    }\n",
       "\n",
       "    .dataframe tbody tr th {\n",
       "        vertical-align: top;\n",
       "    }\n",
       "\n",
       "    .dataframe thead th {\n",
       "        text-align: right;\n",
       "    }\n",
       "</style>\n",
       "<table border=\"1\" class=\"dataframe\">\n",
       "  <thead>\n",
       "    <tr style=\"text-align: right;\">\n",
       "      <th></th>\n",
       "      <th>movieId</th>\n",
       "      <th>title</th>\n",
       "      <th>genres</th>\n",
       "    </tr>\n",
       "  </thead>\n",
       "  <tbody>\n",
       "    <tr>\n",
       "      <th>5645</th>\n",
       "      <td>5757</td>\n",
       "      <td>History of Kim Skov (Historien om Kim Skov) (1...</td>\n",
       "      <td>Documentary|Drama</td>\n",
       "    </tr>\n",
       "  </tbody>\n",
       "</table>\n",
       "</div>"
      ],
      "text/plain": [
       "      movieId                                              title  \\\n",
       "5645     5757  History of Kim Skov (Historien om Kim Skov) (1...   \n",
       "\n",
       "                 genres  \n",
       "5645  Documentary|Drama  "
      ]
     },
     "execution_count": 13,
     "metadata": {},
     "output_type": "execute_result"
    }
   ],
   "source": [
    "mean_ratings = train.groupby('movieId')[['rating']].mean()\n",
    "lowest_rated = mean_ratings['rating'].idxmin()\n",
    "movies[movies['movieId']==lowest_rated]"
   ]
  },
  {
   "cell_type": "markdown",
   "metadata": {},
   "source": [
    "History of Kim Skov (Historien om Kim Skov) is the lowest rated movie"
   ]
  },
  {
   "cell_type": "markdown",
   "metadata": {},
   "source": [
    "### Highest Rated Movie\n",
    "\n",
    "Continuing with the analysis, I will now determine the movie with the highest average rating among users. This involves:\n",
    "1. Grouping the `train` dataset by `movieId` and calculating the mean rating for each movie.\n",
    "2. Identifying the movie with the highest average rating.\n",
    "3. Fetching additional information about the highest rated movie from the `movies` dataset.\n",
    "\n",
    "Understanding the highest rated movie can provide insights into user preferences and popular movie choices within the dataset.\n"
   ]
  },
  {
   "cell_type": "code",
   "execution_count": 14,
   "metadata": {
    "execution": {
     "iopub.execute_input": "2024-06-23T22:46:25.788561Z",
     "iopub.status.busy": "2024-06-23T22:46:25.788157Z",
     "iopub.status.idle": "2024-06-23T22:46:25.799376Z",
     "shell.execute_reply": "2024-06-23T22:46:25.798514Z",
     "shell.execute_reply.started": "2024-06-23T22:46:25.788530Z"
    }
   },
   "outputs": [
    {
     "data": {
      "text/html": [
       "<div>\n",
       "<style scoped>\n",
       "    .dataframe tbody tr th:only-of-type {\n",
       "        vertical-align: middle;\n",
       "    }\n",
       "\n",
       "    .dataframe tbody tr th {\n",
       "        vertical-align: top;\n",
       "    }\n",
       "\n",
       "    .dataframe thead th {\n",
       "        text-align: right;\n",
       "    }\n",
       "</style>\n",
       "<table border=\"1\" class=\"dataframe\">\n",
       "  <thead>\n",
       "    <tr style=\"text-align: right;\">\n",
       "      <th></th>\n",
       "      <th>movieId</th>\n",
       "      <th>title</th>\n",
       "      <th>genres</th>\n",
       "    </tr>\n",
       "  </thead>\n",
       "  <tbody>\n",
       "    <tr>\n",
       "      <th>3141</th>\n",
       "      <td>3234</td>\n",
       "      <td>Train Ride to Hollywood (1975)</td>\n",
       "      <td>Comedy|Fantasy|Musical</td>\n",
       "    </tr>\n",
       "  </tbody>\n",
       "</table>\n",
       "</div>"
      ],
      "text/plain": [
       "      movieId                           title                  genres\n",
       "3141     3234  Train Ride to Hollywood (1975)  Comedy|Fantasy|Musical"
      ]
     },
     "execution_count": 14,
     "metadata": {},
     "output_type": "execute_result"
    }
   ],
   "source": [
    "highest_rated = mean_ratings['rating'].idxmax()\n",
    "movies[movies['movieId'] == highest_rated]"
   ]
  },
  {
   "cell_type": "markdown",
   "metadata": {},
   "source": [
    "Train Ride to Hollywood (1975) is the highest rated movie"
   ]
  },
  {
   "cell_type": "markdown",
   "metadata": {},
   "source": [
    "### User Ratings for the Highest Rated Movie\n",
    "\n",
    "To further analyze the highest rated movie, I will retrieve the user ratings specifically for that movie from the `train` dataset. This involves:\n",
    "1. Filtering the `train` dataset to include only rows where the `movieId` matches the ID of the highest rated movie.\n",
    "2. Displaying the user ratings for the highest rated movie.\n",
    "\n",
    "This analysis will provide a detailed view of how users have rated the highest rated movie, allowing for deeper insights into user preferences and sentiments towards this particular movie.\n"
   ]
  },
  {
   "cell_type": "code",
   "execution_count": 15,
   "metadata": {
    "execution": {
     "iopub.execute_input": "2024-06-23T22:46:29.764620Z",
     "iopub.status.busy": "2024-06-23T22:46:29.763686Z",
     "iopub.status.idle": "2024-06-23T22:46:29.785107Z",
     "shell.execute_reply": "2024-06-23T22:46:29.784192Z",
     "shell.execute_reply.started": "2024-06-23T22:46:29.764577Z"
    }
   },
   "outputs": [
    {
     "data": {
      "text/html": [
       "<div>\n",
       "<style scoped>\n",
       "    .dataframe tbody tr th:only-of-type {\n",
       "        vertical-align: middle;\n",
       "    }\n",
       "\n",
       "    .dataframe tbody tr th {\n",
       "        vertical-align: top;\n",
       "    }\n",
       "\n",
       "    .dataframe thead th {\n",
       "        text-align: right;\n",
       "    }\n",
       "</style>\n",
       "<table border=\"1\" class=\"dataframe\">\n",
       "  <thead>\n",
       "    <tr style=\"text-align: right;\">\n",
       "      <th></th>\n",
       "      <th>userId</th>\n",
       "      <th>movieId</th>\n",
       "      <th>rating</th>\n",
       "      <th>timestamp</th>\n",
       "    </tr>\n",
       "  </thead>\n",
       "  <tbody>\n",
       "    <tr>\n",
       "      <th>3913468</th>\n",
       "      <td>124635</td>\n",
       "      <td>3234</td>\n",
       "      <td>5.0</td>\n",
       "      <td>1047315411</td>\n",
       "    </tr>\n",
       "  </tbody>\n",
       "</table>\n",
       "</div>"
      ],
      "text/plain": [
       "         userId  movieId  rating   timestamp\n",
       "3913468  124635     3234     5.0  1047315411"
      ]
     },
     "execution_count": 15,
     "metadata": {},
     "output_type": "execute_result"
    }
   ],
   "source": [
    "train[train['movieId'] == highest_rated]"
   ]
  },
  {
   "cell_type": "markdown",
   "metadata": {},
   "source": [
    "### Analysis of \"Train Ride to Hollywood (1975)\"\n",
    "\n",
    "In this analysis, I will focus on the movie \"Train Ride to Hollywood (1975)\" which is the highest rated movie to understand its ratings within the dataset. This involves:\n",
    "1. Finding the `movieId` corresponding to \"Train Ride to Hollywood (1975)\" in the `movies` dataset.\n",
    "2. Filtering the `train` dataset to include only ratings for the movie \"Train Ride to Hollywood (1975)\" using its `movieId`.\n",
    "3. Counting the number of ratings received by \"Train Ride to Hollywood (1975)\".\n",
    "\n",
    "This analysis will provide insights into the popularity and user engagement with the specific movie \"Train Ride to Hollywood (1975)\" within the dataset.\n"
   ]
  },
  {
   "cell_type": "code",
   "execution_count": 16,
   "metadata": {
    "execution": {
     "iopub.execute_input": "2024-06-23T22:46:32.758928Z",
     "iopub.status.busy": "2024-06-23T22:46:32.758256Z",
     "iopub.status.idle": "2024-06-23T22:46:32.784495Z",
     "shell.execute_reply": "2024-06-23T22:46:32.783511Z",
     "shell.execute_reply.started": "2024-06-23T22:46:32.758895Z"
    }
   },
   "outputs": [
    {
     "name": "stdout",
     "output_type": "stream",
     "text": [
      "Number of ratings for 'Train Ride to Hollywood (1975)': 1\n"
     ]
    }
   ],
   "source": [
    "# Find the movieId of \"Train Ride to Hollywood (1975)\"\n",
    "movie_id_train_ride = movies[movies['title'] == 'Train Ride to Hollywood (1975)']['movieId'].iloc[0]\n",
    "\n",
    "# Filter the train DataFrame for ratings of the movie \"Train Ride to Hollywood (1975)\"\n",
    "ratings_train_ride = train[train['movieId'] == movie_id_train_ride]\n",
    "\n",
    "# Get the number of ratings for \"Train Ride to Hollywood (1975)\"\n",
    "num_ratings_train_ride = ratings_train_ride.shape[0]\n",
    "\n",
    "print(f\"Number of ratings for 'Train Ride to Hollywood (1975)': {num_ratings_train_ride}\")"
   ]
  },
  {
   "cell_type": "markdown",
   "metadata": {},
   "source": [
    "Train Ride to Hollywood (1975) may be the highest rated movie but it only has 1 rating. The best way to evaluate movie popularity is by looking at the bayesian average"
   ]
  },
  {
   "cell_type": "markdown",
   "metadata": {},
   "source": [
    "### Calculating Bayesian Average Ratings for Movies\n",
    "\n",
    "In this analysis, I will calculate the Bayesian average ratings for movies to evaluate their popularity more accurately. The process involves:\n",
    "\n",
    "1. **Calculating movie statistics** such as count (number of ratings) and mean rating.\n",
    "2. **Determining the parameters C and m** for the Bayesian average calculation. \n",
    "\n",
    "   - `C`: The average number of ratings for a given movie.\n",
    "   - `m`: The average rating for a given movie.\n",
    "\n",
    "3. **Defining the Bayesian average formula**:\n",
    "\n",
    "   \\[\n",
    "   \\text{Bayesian Average} = \\frac{{C \\cdot m + \\sum \\text{Ratings}}}{{C + \\text{Number of Ratings}}}\n",
    "   \\]\n",
    "\n",
    "   - `C * m`: Represents the prior information based on the average rating and number of ratings for a movie.\n",
    "   - `Sum of Ratings`: The sum of all ratings given to the movie.\n",
    "   - `C + Number of Ratings`: Represents the total weight, incorporating both prior information and actual ratings.\n",
    "\n",
    "4. **Applying the Bayesian average formula** (`bayesian_avg`) to calculate Bayesian average ratings for each movie.\n",
    "5. **Merging the Bayesian average ratings with movie titles** for better interpretation.\n",
    "6. **Sorting the movies** based on their Bayesian average ratings in descending order.\n",
    "\n",
    "The Bayesian average rating provides a more robust measure of movie popularity by considering both the average rating and the number of ratings. Movies with fewer ratings will have their ratings adjusted towards the overall average, reducing potential biases from sparse data. This approach helps in identifying top-rated movies more accurately within the dataset.\n"
   ]
  },
  {
   "cell_type": "code",
   "execution_count": 17,
   "metadata": {
    "execution": {
     "iopub.execute_input": "2024-06-23T22:46:42.001625Z",
     "iopub.status.busy": "2024-06-23T22:46:42.001178Z",
     "iopub.status.idle": "2024-06-23T22:46:46.427385Z",
     "shell.execute_reply": "2024-06-23T22:46:46.426445Z",
     "shell.execute_reply.started": "2024-06-23T22:46:42.001596Z"
    }
   },
   "outputs": [
    {
     "name": "stdout",
     "output_type": "stream",
     "text": [
      "Average number of ratings for a given movie: 207.41\n",
      "Average rating for a given movie: 3.10\n",
      "      movieId  bayesian_avg                             title\n",
      "314       318         4.409  Shawshank Redemption, The (1994)\n",
      "840       858         4.299             Godfather, The (1972)\n",
      "49         50         4.267        Usual Suspects, The (1995)\n",
      "1190     1221         4.256    Godfather: Part II, The (1974)\n",
      "522       527         4.238           Schindler's List (1993)\n"
     ]
    }
   ],
   "source": [
    "# Calculate movie statistics: count and mean rating\n",
    "movie_stats = train.groupby('movieId')['rating'].agg(['count', 'mean'])\n",
    "\n",
    "# Calculate C and m for Bayesian average\n",
    "C = movie_stats['count'].mean()\n",
    "m = movie_stats['mean'].mean()\n",
    "\n",
    "print(f\"Average number of ratings for a given movie: {C:.2f}\")\n",
    "print(f\"Average rating for a given movie: {m:.2f}\")\n",
    "\n",
    "# Define the Bayesian average function\n",
    "def bayesian_avg(ratings):\n",
    "    bayesian_avg = (C * m + ratings.sum()) / (C + ratings.count())\n",
    "    return round(bayesian_avg, 3)\n",
    "\n",
    "# Calculate Bayesian average ratings for all movies\n",
    "bayesian_avg_ratings = train.groupby('movieId')['rating'].agg(bayesian_avg).reset_index()\n",
    "bayesian_avg_ratings.columns = ['movieId', 'bayesian_avg']\n",
    "\n",
    "# Merge Bayesian average ratings with movie titles\n",
    "bayesian_avg_ratings = bayesian_avg_ratings.merge(movies[['movieId', 'title']], on='movieId')\n",
    "\n",
    "# Sort movies by Bayesian average rating in descending order\n",
    "sorted_movies = bayesian_avg_ratings.sort_values('bayesian_avg', ascending=False)\n",
    "\n",
    "# Display the top-rated movies based on Bayesian average\n",
    "print(sorted_movies.head())"
   ]
  },
  {
   "cell_type": "markdown",
   "metadata": {},
   "source": [
    "Using the Bayesian average, we see that Shawshank Redemption, The Godfather, and The Usual Suspects are the most highly rated movies."
   ]
  },
  {
   "cell_type": "markdown",
   "metadata": {},
   "source": [
    "### Sorting Movies by Bayesian Average Rating\n",
    "\n",
    "In this step, I will sort the movies based on their Bayesian average rating in ascending order. This involves:\n",
    "\n",
    "1. Using the `sort_values` method on the `bayesian_avg_ratings` DataFrame to sort the movies by their Bayesian average rating.\n",
    "2. Sorting in ascending order to display the lowest-rated movies first.\n",
    "\n",
    "Let's proceed with sorting the movies and displaying the lowest-rated movies based on their Bayesian average.\n"
   ]
  },
  {
   "cell_type": "code",
   "execution_count": 18,
   "metadata": {
    "execution": {
     "iopub.execute_input": "2024-06-23T22:46:51.878843Z",
     "iopub.status.busy": "2024-06-23T22:46:51.878514Z",
     "iopub.status.idle": "2024-06-23T22:46:51.894633Z",
     "shell.execute_reply": "2024-06-23T22:46:51.893624Z",
     "shell.execute_reply.started": "2024-06-23T22:46:51.878820Z"
    }
   },
   "outputs": [
    {
     "name": "stdout",
     "output_type": "stream",
     "text": [
      "       movieId  bayesian_avg                           title\n",
      "3493      3593         1.741        Battlefield Earth (2000)\n",
      "11310    50798         1.958               Epic Movie (2007)\n",
      "6457      6587         1.966                    Gigli (2003)\n",
      "1688      1760         2.012              Spice World (1997)\n",
      "1501      1556         2.014  Speed 2: Cruise Control (1997)\n"
     ]
    }
   ],
   "source": [
    "# Sort movies by Bayesian average rating in ascending order\n",
    "sorted_movies = bayesian_avg_ratings.sort_values('bayesian_avg', ascending=True)\n",
    "\n",
    "# Display the lowest-rated movies based on Bayesian average\n",
    "print(sorted_movies.head())"
   ]
  },
  {
   "cell_type": "markdown",
   "metadata": {},
   "source": [
    "Taking the Bayesian averaging into consideration, it looks like Speed 2: Cruise Control, Spice World, and Gigli are the worst rated movies. Gypsy isn't so bad after all."
   ]
  },
  {
   "cell_type": "markdown",
   "metadata": {},
   "source": [
    "### MOVIE GENRES"
   ]
  },
  {
   "cell_type": "markdown",
   "metadata": {},
   "source": [
    "Preprocess the movie dataset\n",
    "- Genres: movie genres are expressed as a string with a pipe | separating each genre. manipulate this string into a list.\n",
    "- title: currently has (year) appended at the end. Extract year from each title string and create a new column for it."
   ]
  },
  {
   "cell_type": "markdown",
   "metadata": {},
   "source": [
    "### Preprocessing Movie Genres\n",
    "\n",
    "In this step, I am preprocessing the movie genres data by splitting the genres column on the \"|\" delimiter. This involves:\n",
    "\n",
    "1. Using the `apply` method along with a lambda function to split each genre entry in the 'genres' column into a list of genres.\n",
    "2. Assigning the modified 'genres' column back to the DataFrame.\n",
    "\n",
    "This preprocessing step will allow us to work with individual genres more easily for analysis or further processing.\n"
   ]
  },
  {
   "cell_type": "code",
   "execution_count": 19,
   "metadata": {
    "execution": {
     "iopub.execute_input": "2024-06-23T22:46:56.972151Z",
     "iopub.status.busy": "2024-06-23T22:46:56.971730Z",
     "iopub.status.idle": "2024-06-23T22:46:57.095195Z",
     "shell.execute_reply": "2024-06-23T22:46:57.094294Z",
     "shell.execute_reply.started": "2024-06-23T22:46:56.972116Z"
    }
   },
   "outputs": [
    {
     "data": {
      "text/html": [
       "<div>\n",
       "<style scoped>\n",
       "    .dataframe tbody tr th:only-of-type {\n",
       "        vertical-align: middle;\n",
       "    }\n",
       "\n",
       "    .dataframe tbody tr th {\n",
       "        vertical-align: top;\n",
       "    }\n",
       "\n",
       "    .dataframe thead th {\n",
       "        text-align: right;\n",
       "    }\n",
       "</style>\n",
       "<table border=\"1\" class=\"dataframe\">\n",
       "  <thead>\n",
       "    <tr style=\"text-align: right;\">\n",
       "      <th></th>\n",
       "      <th>movieId</th>\n",
       "      <th>title</th>\n",
       "      <th>genres</th>\n",
       "    </tr>\n",
       "  </thead>\n",
       "  <tbody>\n",
       "    <tr>\n",
       "      <th>0</th>\n",
       "      <td>1</td>\n",
       "      <td>Toy Story (1995)</td>\n",
       "      <td>[Adventure, Animation, Children, Comedy, Fantasy]</td>\n",
       "    </tr>\n",
       "    <tr>\n",
       "      <th>1</th>\n",
       "      <td>2</td>\n",
       "      <td>Jumanji (1995)</td>\n",
       "      <td>[Adventure, Children, Fantasy]</td>\n",
       "    </tr>\n",
       "    <tr>\n",
       "      <th>2</th>\n",
       "      <td>3</td>\n",
       "      <td>Grumpier Old Men (1995)</td>\n",
       "      <td>[Comedy, Romance]</td>\n",
       "    </tr>\n",
       "    <tr>\n",
       "      <th>3</th>\n",
       "      <td>4</td>\n",
       "      <td>Waiting to Exhale (1995)</td>\n",
       "      <td>[Comedy, Drama, Romance]</td>\n",
       "    </tr>\n",
       "    <tr>\n",
       "      <th>4</th>\n",
       "      <td>5</td>\n",
       "      <td>Father of the Bride Part II (1995)</td>\n",
       "      <td>[Comedy]</td>\n",
       "    </tr>\n",
       "  </tbody>\n",
       "</table>\n",
       "</div>"
      ],
      "text/plain": [
       "   movieId                               title  \\\n",
       "0        1                    Toy Story (1995)   \n",
       "1        2                      Jumanji (1995)   \n",
       "2        3             Grumpier Old Men (1995)   \n",
       "3        4            Waiting to Exhale (1995)   \n",
       "4        5  Father of the Bride Part II (1995)   \n",
       "\n",
       "                                              genres  \n",
       "0  [Adventure, Animation, Children, Comedy, Fantasy]  \n",
       "1                     [Adventure, Children, Fantasy]  \n",
       "2                                  [Comedy, Romance]  \n",
       "3                           [Comedy, Drama, Romance]  \n",
       "4                                           [Comedy]  "
      ]
     },
     "execution_count": 19,
     "metadata": {},
     "output_type": "execute_result"
    }
   ],
   "source": [
    "movies['genres'] = movies['genres'].apply(lambda x: x.split(\"|\"))\n",
    "movies.head()"
   ]
  },
  {
   "cell_type": "markdown",
   "metadata": {},
   "source": [
    "### Counting Genre Frequencies\n",
    "#### How many genres do we have\n",
    "\n",
    "In this step, I am using the `Counter` from the `collections` module to count the frequency of each genre in the 'genres' column of the movies DataFrame. This involves:\n",
    "\n",
    "1. Creating a Counter object `genre_frequency` by iterating through each genre in the 'genres' column using a nested loop.\n",
    "2. Counting the occurrences of each genre and storing the results in the `genre_frequency` Counter.\n",
    "\n",
    "After counting the genre frequencies, I will display the total number of unique genres and the frequency of each genre in the dataset.\n"
   ]
  },
  {
   "cell_type": "code",
   "execution_count": 20,
   "metadata": {
    "execution": {
     "iopub.execute_input": "2024-06-23T22:47:00.921188Z",
     "iopub.status.busy": "2024-06-23T22:47:00.920842Z",
     "iopub.status.idle": "2024-06-23T22:47:00.960029Z",
     "shell.execute_reply": "2024-06-23T22:47:00.959106Z",
     "shell.execute_reply.started": "2024-06-23T22:47:00.921161Z"
    }
   },
   "outputs": [
    {
     "name": "stdout",
     "output_type": "stream",
     "text": [
      "There are 20 genres.\n"
     ]
    },
    {
     "data": {
      "text/plain": [
       "Counter({'Drama': 25606,\n",
       "         'Comedy': 16870,\n",
       "         'Thriller': 8654,\n",
       "         'Romance': 7719,\n",
       "         'Action': 7348,\n",
       "         'Horror': 5989,\n",
       "         'Documentary': 5605,\n",
       "         'Crime': 5319,\n",
       "         '(no genres listed)': 5062,\n",
       "         'Adventure': 4145,\n",
       "         'Sci-Fi': 3595,\n",
       "         'Children': 2935,\n",
       "         'Animation': 2929,\n",
       "         'Mystery': 2925,\n",
       "         'Fantasy': 2731,\n",
       "         'War': 1874,\n",
       "         'Western': 1399,\n",
       "         'Musical': 1054,\n",
       "         'Film-Noir': 353,\n",
       "         'IMAX': 195})"
      ]
     },
     "execution_count": 20,
     "metadata": {},
     "output_type": "execute_result"
    }
   ],
   "source": [
    "from collections import Counter\n",
    "\n",
    "genre_frequency = Counter(g for genres in movies['genres'] for g in genres)\n",
    "\n",
    "print(f\"There are {len(genre_frequency)} genres.\")\n",
    "\n",
    "genre_frequency"
   ]
  },
  {
   "cell_type": "markdown",
   "metadata": {},
   "source": [
    "### Finding the Most Common Genres\n",
    "\n",
    "In this step, I am using the `most_common` method of the `genre_frequency` Counter to find the 5 most common genres in the dataset. This involves:\n",
    "\n",
    "1. Using the `most_common` method with an argument of 5 to retrieve the top 5 most common genres along with their frequencies.\n",
    "2. Printing the result to display the 5 most common genres and their respective frequencies.\n",
    "\n",
    "This analysis helps identify the most prevalent genres in the dataset, providing insights into the distribution of movie genres.\n"
   ]
  },
  {
   "cell_type": "code",
   "execution_count": 21,
   "metadata": {
    "execution": {
     "iopub.execute_input": "2024-06-23T22:47:05.796619Z",
     "iopub.status.busy": "2024-06-23T22:47:05.795700Z",
     "iopub.status.idle": "2024-06-23T22:47:05.801502Z",
     "shell.execute_reply": "2024-06-23T22:47:05.800451Z",
     "shell.execute_reply.started": "2024-06-23T22:47:05.796584Z"
    }
   },
   "outputs": [
    {
     "name": "stdout",
     "output_type": "stream",
     "text": [
      "The 5 most common genres: \n",
      " [('Drama', 25606), ('Comedy', 16870), ('Thriller', 8654), ('Romance', 7719), ('Action', 7348)]\n"
     ]
    }
   ],
   "source": [
    "print(\"The 5 most common genres: \\n\", genre_frequency.most_common(5))"
   ]
  },
  {
   "cell_type": "markdown",
   "metadata": {},
   "source": [
    "The top 5 genres are: Drama, Comedy, Thriller, Romance and Action."
   ]
  },
  {
   "cell_type": "markdown",
   "metadata": {},
   "source": [
    "### Extracting Years from Movie Titles\n",
    "\n",
    "In this step, I am extracting the years from the movie titles in the 'title' column of the movies DataFrame. This involves:\n",
    "\n",
    "1. Defining a function `extract_year` using regular expressions (`re`) to extract the year from a movie title string in the format \"(YYYY)\".\n",
    "2. Applying the `extract_year` function to the 'title' column to create a new 'year' column containing the extracted years as integers.\n",
    "3. Using a lambda function with `re.sub` to remove the year from the movie title string in the 'title' column.\n",
    "\n",
    "This preprocessing step helps separate the movie titles and their respective release years, making it easier to analyze movies based on their release dates.\n",
    "\n",
    "Let's display the first few rows of the DataFrame to verify the changes made.\n"
   ]
  },
  {
   "cell_type": "code",
   "execution_count": 22,
   "metadata": {
    "execution": {
     "iopub.execute_input": "2024-06-23T22:47:12.130341Z",
     "iopub.status.busy": "2024-06-23T22:47:12.129728Z",
     "iopub.status.idle": "2024-06-23T22:47:12.416381Z",
     "shell.execute_reply": "2024-06-23T22:47:12.415442Z",
     "shell.execute_reply.started": "2024-06-23T22:47:12.130312Z"
    }
   },
   "outputs": [
    {
     "name": "stdout",
     "output_type": "stream",
     "text": [
      "   movieId                        title  \\\n",
      "0        1                    Toy Story   \n",
      "1        2                      Jumanji   \n",
      "2        3             Grumpier Old Men   \n",
      "3        4            Waiting to Exhale   \n",
      "4        5  Father of the Bride Part II   \n",
      "\n",
      "                                              genres  year  \n",
      "0  [Adventure, Animation, Children, Comedy, Fantasy]  1995  \n",
      "1                     [Adventure, Children, Fantasy]  1995  \n",
      "2                                  [Comedy, Romance]  1995  \n",
      "3                           [Comedy, Drama, Romance]  1995  \n",
      "4                                           [Comedy]  1995  \n"
     ]
    }
   ],
   "source": [
    "import re\n",
    "\n",
    "# Function to extract year from title\n",
    "def extract_year(title):\n",
    "    match = re.search(r'\\((\\d{4})\\)', title)\n",
    "    return int(match.group(1)) if match else None\n",
    "\n",
    "# Apply the function to create a new column 'year'\n",
    "movies['year'] = movies['title'].apply(extract_year).astype(pd.Int32Dtype())\n",
    "\n",
    "# Remove the year from the title string\n",
    "movies['title'] = movies['title'].apply(lambda x: re.sub(r'\\(\\d{4}\\)', '', x).strip())\n",
    "\n",
    "# Display the first few rows to verify\n",
    "print(movies.head())"
   ]
  },
  {
   "cell_type": "markdown",
   "metadata": {},
   "source": [
    "### Visualizing Genre Frequencies\n",
    "\n",
    "In this step, I am visualizing the frequency of genres using a bar plot. This involves:\n",
    "\n",
    "1. Creating a DataFrame `genre_frequency_df` from the genre frequency Counter.\n",
    "2. Transposing the DataFrame and resetting the index to have columns 'genre' and 'count'.\n",
    "3. Sorting the DataFrame by the 'count' column in descending order for better visualization.\n",
    "4. Using Seaborn's `barplot` function to create a bar plot with genres on the x-axis and their frequencies on the y-axis.\n",
    "5. Rotating the x-axis labels for better readability.\n",
    "\n",
    "This visualization helps us understand the distribution of genres in the dataset and identify the most common genres based on their frequencies.\n"
   ]
  },
  {
   "cell_type": "code",
   "execution_count": 23,
   "metadata": {
    "execution": {
     "iopub.execute_input": "2024-06-23T22:47:17.505802Z",
     "iopub.status.busy": "2024-06-23T22:47:17.505459Z",
     "iopub.status.idle": "2024-06-23T22:47:17.840643Z",
     "shell.execute_reply": "2024-06-23T22:47:17.839769Z",
     "shell.execute_reply.started": "2024-06-23T22:47:17.505775Z"
    }
   },
   "outputs": [
    {
     "data": {
      "image/png": "[encoded data removed]",
      "text/plain": [
       "<Figure size 640x480 with 1 Axes>"
      ]
     },
     "metadata": {},
     "output_type": "display_data"
    }
   ],
   "source": [
    "genre_frequency_df = pd.DataFrame([genre_frequency]).T.reset_index()\n",
    "genre_frequency_df.columns = ['genre', 'count']\n",
    "\n",
    "sns.barplot(x='genre', y='count', data=genre_frequency_df.sort_values(by='count', ascending=False))\n",
    "plt.xticks(rotation=90)\n",
    "plt.show()"
   ]
  },
  {
   "cell_type": "markdown",
   "metadata": {},
   "source": [
    "### Sampling the Train Dataset\n",
    "\n",
    "In this step, I am sampling a fraction of the train dataset to reduce its size for faster processing or testing purposes. This involves:\n",
    "\n",
    "1. Using the `sample` method on the train DataFrame with a sampling fraction of 0.1 (10%) and setting a random state for reproducibility (`random_state=42`).\n",
    "2. Creating a new DataFrame `sampled_train` containing the sampled data.\n",
    "\n",
    "The purpose of sampling is to work with a smaller subset of the data while maintaining its statistical properties, which can be useful for preliminary analysis or testing algorithms on a manageable dataset.\n",
    "\n",
    "Let's check the size of the sampled dataframe to ensure the sampling process was successful."
   ]
  },
  {
   "cell_type": "code",
   "execution_count": 24,
   "metadata": {
    "execution": {
     "iopub.execute_input": "2024-06-23T22:47:22.970540Z",
     "iopub.status.busy": "2024-06-23T22:47:22.970124Z",
     "iopub.status.idle": "2024-06-23T22:47:23.415937Z",
     "shell.execute_reply": "2024-06-23T22:47:23.414855Z",
     "shell.execute_reply.started": "2024-06-23T22:47:22.970510Z"
    }
   },
   "outputs": [
    {
     "name": "stdout",
     "output_type": "stream",
     "text": [
      "(1000004, 4)\n"
     ]
    }
   ],
   "source": [
    "# Sample the train dataset (e.g., 0.1% of the data)\n",
    "sampled_train = train.sample(frac=0.1, random_state=42)\n",
    "\n",
    "# Check the size of the sampled dataframe\n",
    "print(sampled_train.shape)"
   ]
  },
  {
   "cell_type": "markdown",
   "metadata": {},
   "source": [
    "### Preparing Data for Surprise Library\n",
    "\n",
    "In this step, I am preparing the data to be used with the Surprise library, which is commonly used for collaborative filtering and recommendation systems. This involves:\n",
    "\n",
    "1. Creating a `Reader` object with the rating scale defined as the minimum and maximum ratings in the sampled train dataset (`sampled_train['rating'].min()` and `sampled_train['rating'].max()`).\n",
    "2. Loading the data into a Surprise `Dataset` object using the `load_from_df` method, with the necessary columns 'userId', 'movieId', and 'rating' from the sampled train dataset.\n",
    "\n",
    "By preparing the data in this format, we can easily utilize Surprise's algorithms for collaborative filtering and make recommendations based on user-item interactions.\n",
    "\n",
    "Let's proceed with using the Surprise library for collaborative filtering and recommendation tasks.\n"
   ]
  },
  {
   "cell_type": "code",
   "execution_count": 25,
   "metadata": {
    "execution": {
     "iopub.execute_input": "2024-06-23T22:47:28.331814Z",
     "iopub.status.busy": "2024-06-23T22:47:28.331448Z",
     "iopub.status.idle": "2024-06-23T22:47:29.717631Z",
     "shell.execute_reply": "2024-06-23T22:47:29.716624Z",
     "shell.execute_reply.started": "2024-06-23T22:47:28.331788Z"
    }
   },
   "outputs": [],
   "source": [
    "# Prepare the data for Surprise library\n",
    "reader = Reader(rating_scale=(sampled_train['rating'].min(), sampled_train['rating'].max()))\n",
    "data = Dataset.load_from_df(sampled_train[['userId', 'movieId', 'rating']], reader)"
   ]
  },
  {
   "cell_type": "markdown",
   "metadata": {},
   "source": [
    "### Defining the Parameter Grid for Grid Search\n",
    "\n",
    "In this step, I am defining a parameter grid to be used for grid search with the Surprise library. Grid search is a technique used to systematically explore a range of hyperparameters to find the best combination for a machine learning model. This involves:\n",
    "\n",
    "1. Defining a dictionary `param_grid` containing various hyperparameters and their corresponding values to be explored.\n",
    "2. The hyperparameters included in the grid are 'n_factors' (number of latent factors), 'n_epochs' (number of epochs), 'lr_all' (learning rate), and 'reg_all' (regularization term).\n",
    "\n",
    "By defining this parameter grid, we can use grid search to find the optimal combination of hyperparameters for our collaborative filtering model in Surprise.\n",
    "\n",
    "Let's proceed with grid search using this parameter grid to tune our model and improve its performance.\n"
   ]
  },
  {
   "cell_type": "code",
   "execution_count": 27,
   "metadata": {
    "execution": {
     "iopub.execute_input": "2024-06-23T22:47:45.952709Z",
     "iopub.status.busy": "2024-06-23T22:47:45.952070Z",
     "iopub.status.idle": "2024-06-23T22:47:45.957532Z",
     "shell.execute_reply": "2024-06-23T22:47:45.956457Z",
     "shell.execute_reply.started": "2024-06-23T22:47:45.952675Z"
    }
   },
   "outputs": [],
   "source": [
    "# Define the parameter grid\n",
    "param_grid = {\n",
    "    'n_factors': [20, 50, 100],\n",
    "    'n_epochs': [20, 30, 40],\n",
    "    'lr_all': [0.002, 0.005, 0.01],\n",
    "    'reg_all': [0.02, 0.05, 0.1]\n",
    "}"
   ]
  },
  {
   "cell_type": "markdown",
   "metadata": {},
   "source": [
    "## Performing Grid Search for Hyperparameter Tuning\n",
    "\n",
    "In this step, I am performing grid search using the `GridSearchCV` class from the Surprise library. Grid search is a technique used to systematically explore a range of hyperparameters and find the best combination for a machine learning model. This involves:\n",
    "\n",
    "1. Creating a `GridSearchCV` object `gs` with the following parameters:\n",
    "   - `SVD`: The algorithm to be tuned (in this case, Singular Value Decomposition for collaborative filtering).\n",
    "   - `param_grid`: The parameter grid containing hyperparameters to be explored.\n",
    "   - `measures=['rmse']`: The evaluation metric to optimize, in this case, Root Mean Squared Error (RMSE).\n",
    "   - `cv=3`: The number of cross-validation folds.\n",
    "   - `n_jobs=-1`: Utilizing all available CPU cores for parallel processing.\n",
    "\n",
    "2. Calling the `fit` method on the grid search object `gs` to perform the grid search and find the best hyperparameters based on RMSE.\n",
    "\n",
    "By performing grid search, we aim to tune the hyperparameters of our collaborative filtering model to improve its predictive performance and accuracy.\n",
    "\n",
    "Let's proceed with running grid search and optimizing our model's hyperparameters.\n"
   ]
  },
  {
   "cell_type": "code",
   "execution_count": 28,
   "metadata": {
    "execution": {
     "iopub.execute_input": "2024-06-23T22:47:54.928602Z",
     "iopub.status.busy": "2024-06-23T22:47:54.927944Z",
     "iopub.status.idle": "2024-06-23T23:11:38.188366Z",
     "shell.execute_reply": "2024-06-23T23:11:38.187216Z",
     "shell.execute_reply.started": "2024-06-23T22:47:54.928571Z"
    }
   },
   "outputs": [],
   "source": [
    "# Perform grid search\n",
    "gs = GridSearchCV(SVD, param_grid, measures=['rmse'], cv=3, n_jobs=-1)\n",
    "gs.fit(data)"
   ]
  },
  {
   "cell_type": "markdown",
   "metadata": {},
   "source": [
    "### Retrieving Best Parameters and Best Score from Grid Search\n",
    "\n",
    "In this step, I am retrieving the best parameters and best score obtained from the grid search performed using the Surprise library. This involves:\n",
    "\n",
    "1. Accessing the `best_params` attribute of the grid search object `gs` to get the best hyperparameters that resulted in the lowest RMSE (Root Mean Squared Error).\n",
    "2. Accessing the `best_score` attribute of the grid search object `gs` to get the corresponding best RMSE score achieved during grid search.\n",
    "\n",
    "After retrieving the best parameters and best score, we can use this information to configure our collaborative filtering model with the optimal hyperparameters for improved performance.\n",
    "\n",
    "Let's print the best RMSE and best parameters obtained from grid search.\n"
   ]
  },
  {
   "cell_type": "code",
   "execution_count": 29,
   "metadata": {
    "execution": {
     "iopub.execute_input": "2024-06-23T23:12:30.470878Z",
     "iopub.status.busy": "2024-06-23T23:12:30.470494Z",
     "iopub.status.idle": "2024-06-23T23:12:30.477125Z",
     "shell.execute_reply": "2024-06-23T23:12:30.476136Z",
     "shell.execute_reply.started": "2024-06-23T23:12:30.470845Z"
    }
   },
   "outputs": [
    {
     "name": "stdout",
     "output_type": "stream",
     "text": [
      "Best RMSE: 0.9058828083906331\n",
      "Best parameters: {'n_factors': 20, 'n_epochs': 30, 'lr_all': 0.005, 'reg_all': 0.1}\n"
     ]
    }
   ],
   "source": [
    "# Get the best parameters and best score\n",
    "best_params = gs.best_params['rmse']\n",
    "best_score = gs.best_score['rmse']\n",
    "\n",
    "print(f\"Best RMSE: {best_score}\")\n",
    "print(f\"Best parameters: {best_params}\")"
   ]
  },
  {
   "cell_type": "markdown",
   "metadata": {},
   "source": [
    "### Training the SVD Model with the Best Parameters\n",
    "\n",
    "In this step, I am training the Singular Value Decomposition (SVD) model using the best parameters obtained from grid search. This involves:\n",
    "\n",
    "1. Creating an instance of the SVD algorithm `svd` with the best hyperparameters such as 'n_factors', 'n_epochs', 'lr_all', and 'reg_all'.\n",
    "2. Splitting the data into training and testing sets using the `train_test_split` function with a test size of 20% and a random state for reproducibility.\n",
    "3. Fitting the SVD model on the training set `trainset` using the `fit` method.\n",
    "\n",
    "By training the SVD model with the best parameters, we aim to optimize its performance and accuracy for collaborative filtering and recommendation tasks.\n",
    "\n",
    "Let's proceed with training the SVD model using the best parameters obtained from grid search.\n"
   ]
  },
  {
   "cell_type": "code",
   "execution_count": 33,
   "metadata": {
    "execution": {
     "iopub.execute_input": "2024-06-23T23:14:51.747524Z",
     "iopub.status.busy": "2024-06-23T23:14:51.747135Z",
     "iopub.status.idle": "2024-06-23T23:15:07.049177Z",
     "shell.execute_reply": "2024-06-23T23:15:07.048227Z",
     "shell.execute_reply.started": "2024-06-23T23:14:51.747496Z"
    }
   },
   "outputs": [
    {
     "data": {
      "text/plain": [
       "<surprise.prediction_algorithms.matrix_factorization.SVD at 0x79ddf304aaa0>"
      ]
     },
     "execution_count": 33,
     "metadata": {},
     "output_type": "execute_result"
    }
   ],
   "source": [
    "# Train the SVD model with the best parameters\n",
    "svd_model = SVD(n_factors=best_params['n_factors'], n_epochs=best_params['n_epochs'], \n",
    "          lr_all=best_params['lr_all'], reg_all=best_params['reg_all'])\n",
    "trainset, testset = train_test_split(data, test_size=0.2, random_state=42)\n",
    "svd_model.fit(trainset)"
   ]
  },
  {
   "cell_type": "markdown",
   "metadata": {},
   "source": [
    "### Movie Recommendations Function\n",
    "\n",
    "This function, `get_recommendations`, is designed to provide personalized movie recommendations for a user based on their historical preferences. It leverages the Singular Value Decomposition (SVD) model trained on user-item interactions to estimate how much a user would likely rate a movie they haven't seen yet.\n",
    "\n",
    "Here's how the function works:\n",
    "\n",
    "1. It takes three parameters: `user_id` (the ID of the user for whom we want recommendations), `svd_model` (the trained SVD model), and `movies_data` (a DataFrame containing movie data including IDs).\n",
    "\n",
    "2. For each unique movie in the `movies_data` DataFrame, it predicts the rating that the user with ID `user_id` would give to that movie using the `svd_model.predict` method.\n",
    "\n",
    "3. The predicted ratings are stored along with their corresponding movie IDs in a list called `user_recommendations`.\n",
    "\n",
    "4. Finally, the list of recommendations is sorted in descending order based on the estimated ratings, providing the top-rated movies as recommendations for the user.\n",
    "\n",
    "This function is crucial for enhancing user experience by suggesting relevant and personalized movie choices, thereby improving engagement and satisfaction with the recommendation system.\n"
   ]
  },
  {
   "cell_type": "code",
   "execution_count": 34,
   "metadata": {
    "execution": {
     "iopub.execute_input": "2024-06-23T23:15:17.176622Z",
     "iopub.status.busy": "2024-06-23T23:15:17.176173Z",
     "iopub.status.idle": "2024-06-23T23:15:17.182356Z",
     "shell.execute_reply": "2024-06-23T23:15:17.181242Z",
     "shell.execute_reply.started": "2024-06-23T23:15:17.176593Z"
    }
   },
   "outputs": [],
   "source": [
    "def get_recommendations(user_id, svd_model, movies_data):\n",
    "    # Generate recommendations for the user\n",
    "    user_recommendations = []\n",
    "    for movie_id in movies_data['movieId'].unique():\n",
    "        est_rating = svd_model.predict(user_id, movie_id).est\n",
    "        user_recommendations.append((movie_id, est_rating))\n",
    "\n",
    "    # Sort recommendations by estimated rating in descending order\n",
    "    user_recommendations.sort(key=lambda x: x[1], reverse=True)\n",
    "\n",
    "    return user_recommendations"
   ]
  },
  {
   "cell_type": "markdown",
   "metadata": {},
   "source": [
    "### Generating Movie Recommendations for Users\n",
    "\n",
    "I use the `get_recommendations` function to recommend movies for specific users based on their historical preferences. Here's how I do it:\n",
    "\n",
    "1. First, I define a list of example user IDs (`user_ids_to_recommend`) for whom I want to generate movie recommendations.\n",
    "\n",
    "2. I loop through each user ID in `user_ids_to_recommend`, calling the `get_recommendations` function with the user ID, the trained SVD model (`svd_model`), and the movie dataset (`movies` DataFrame).\n",
    "\n",
    "3. For each user, I print the top 10 movie recommendations along with their estimated ratings.\n",
    "\n",
    "The following code snippet demonstrates how I recommend movies for specific users:"
   ]
  },
  {
   "cell_type": "code",
   "execution_count": 35,
   "metadata": {
    "execution": {
     "iopub.execute_input": "2024-06-23T23:15:23.385003Z",
     "iopub.status.busy": "2024-06-23T23:15:23.384181Z",
     "iopub.status.idle": "2024-06-23T23:15:25.390171Z",
     "shell.execute_reply": "2024-06-23T23:15:25.389266Z",
     "shell.execute_reply.started": "2024-06-23T23:15:23.384970Z"
    }
   },
   "outputs": [
    {
     "name": "stdout",
     "output_type": "stream",
     "text": [
      "Recommendations for User 1:\n",
      "Movie ID: 171011 - Title: Planet Earth II - Estimated Rating: 4.676572904241224\n",
      "Movie ID: 26578 - Title: Sacrifice, The (Offret - Sacraficatio) - Estimated Rating: 4.601514859156702\n",
      "Movie ID: 170705 - Title: Band of Brothers - Estimated Rating: 4.525730266245865\n",
      "Movie ID: 129514 - Title: George Carlin: It's Bad for Ya! - Estimated Rating: 4.520048441730919\n",
      "Movie ID: 160289 - Title: O.J.: Made in America - Estimated Rating: 4.482237386797499\n",
      "Movie ID: 170777 - Title: There Once Was a Dog - Estimated Rating: 4.443693681632211\n",
      "Movie ID: 26471 - Title: Eddie Murphy Delirious - Estimated Rating: 4.425803805951984\n",
      "Movie ID: 159817 - Title: Planet Earth - Estimated Rating: 4.4068943968623895\n",
      "Movie ID: 100556 - Title: Act of Killing, The - Estimated Rating: 4.40554311222837\n",
      "Movie ID: 116136 - Title: Olive Kitteridge - Estimated Rating: 4.396210959885466\n",
      "\n",
      "\n",
      "Recommendations for User 25:\n",
      "Movie ID: 171011 - Title: Planet Earth II - Estimated Rating: 4.6343998001040445\n",
      "Movie ID: 26578 - Title: Sacrifice, The (Offret - Sacraficatio) - Estimated Rating: 4.526092178932404\n",
      "Movie ID: 170705 - Title: Band of Brothers - Estimated Rating: 4.509672570342448\n",
      "Movie ID: 129514 - Title: George Carlin: It's Bad for Ya! - Estimated Rating: 4.4394446067673465\n",
      "Movie ID: 160289 - Title: O.J.: Made in America - Estimated Rating: 4.435800662069461\n",
      "Movie ID: 170777 - Title: There Once Was a Dog - Estimated Rating: 4.417977678566843\n",
      "Movie ID: 116136 - Title: Olive Kitteridge - Estimated Rating: 4.396780287639917\n",
      "Movie ID: 26471 - Title: Eddie Murphy Delirious - Estimated Rating: 4.377582532094212\n",
      "Movie ID: 100556 - Title: Act of Killing, The - Estimated Rating: 4.371876478715531\n",
      "Movie ID: 3415 - Title: Mirror, The (Zerkalo) - Estimated Rating: 4.3539154940941724\n",
      "\n",
      "\n",
      "Recommendations for User 50:\n",
      "Movie ID: 171011 - Title: Planet Earth II - Estimated Rating: 4.945046099224115\n",
      "Movie ID: 26578 - Title: Sacrifice, The (Offret - Sacraficatio) - Estimated Rating: 4.8872636232155715\n",
      "Movie ID: 129514 - Title: George Carlin: It's Bad for Ya! - Estimated Rating: 4.826381221971682\n",
      "Movie ID: 170705 - Title: Band of Brothers - Estimated Rating: 4.8208015828166255\n",
      "Movie ID: 100556 - Title: Act of Killing, The - Estimated Rating: 4.763628495307321\n",
      "Movie ID: 7937 - Title: Silence, The (Tystnaden) - Estimated Rating: 4.752164838307493\n",
      "Movie ID: 26471 - Title: Eddie Murphy Delirious - Estimated Rating: 4.729859332928005\n",
      "Movie ID: 160289 - Title: O.J.: Made in America - Estimated Rating: 4.718252465090383\n",
      "Movie ID: 3134 - Title: Grand Illusion (La grande illusion) - Estimated Rating: 4.714773631020246\n",
      "Movie ID: 2920 - Title: Children of Paradise (Les enfants du paradis) - Estimated Rating: 4.705364465052166\n",
      "\n",
      "\n",
      "Recommendations for User 100:\n",
      "Movie ID: 171011 - Title: Planet Earth II - Estimated Rating: 4.525611587208363\n",
      "Movie ID: 170777 - Title: There Once Was a Dog - Estimated Rating: 4.425551000695075\n",
      "Movie ID: 170705 - Title: Band of Brothers - Estimated Rating: 4.386780815771167\n",
      "Movie ID: 116136 - Title: Olive Kitteridge - Estimated Rating: 4.364393931415183\n",
      "Movie ID: 26578 - Title: Sacrifice, The (Offret - Sacraficatio) - Estimated Rating: 4.359481979273913\n",
      "Movie ID: 26471 - Title: Eddie Murphy Delirious - Estimated Rating: 4.342731682487625\n",
      "Movie ID: 129514 - Title: George Carlin: It's Bad for Ya! - Estimated Rating: 4.3158299891903384\n",
      "Movie ID: 160289 - Title: O.J.: Made in America - Estimated Rating: 4.305196904715556\n",
      "Movie ID: 2920 - Title: Children of Paradise (Les enfants du paradis) - Estimated Rating: 4.2983239706533\n",
      "Movie ID: 100556 - Title: Act of Killing, The - Estimated Rating: 4.296540608745682\n",
      "\n",
      "\n"
     ]
    }
   ],
   "source": [
    "user_ids_to_recommend = [1, 25, 50, 100]\n",
    "\n",
    "# Loop through each user ID and generate recommendations\n",
    "for user_id in user_ids_to_recommend:\n",
    "    recommendations = get_recommendations(user_id, svd_model, movies)\n",
    "    \n",
    "    # Print recommendations for each user\n",
    "    print(f\"Recommendations for User {user_id}:\")\n",
    "    for movie_id, est_rating in recommendations[:10]:  # Display top 10 recommendations\n",
    "        movie_title = movies[movies['movieId'] == movie_id]['title'].values[0]\n",
    "        print(f\"Movie ID: {movie_id} - Title: {movie_title} - Estimated Rating: {est_rating}\")\n",
    "    print('\\n')"
   ]
  },
  {
   "cell_type": "markdown",
   "metadata": {},
   "source": [
    "## Evaluating the Model Performance\n",
    "\n",
    "In this step, I am using the trained SVD model to predict ratings for the validation set (test set) and evaluate its performance using the RMSE (Root Mean Squared Error) metric. This involves:\n",
    "\n",
    "1. Making predictions on the test set `testset` using the trained SVD model `svd`.\n",
    "2. Calculating the RMSE by comparing the predicted ratings with the actual ratings in the test set using the `accuracy.rmse` method.\n",
    "\n",
    "Evaluating the model performance with RMSE helps us assess how well the collaborative filtering model predicts ratings and generalizes to unseen data.\n",
    "\n",
    "Note: This step is optional and can be used for evaluation purposes to measure the model's accuracy.\n",
    "\n",
    "Let's proceed with predicting ratings for the validation set and evaluating the model's performance using RMSE.\n"
   ]
  },
  {
   "cell_type": "code",
   "execution_count": 36,
   "metadata": {
    "execution": {
     "iopub.execute_input": "2024-06-23T23:16:11.635311Z",
     "iopub.status.busy": "2024-06-23T23:16:11.634483Z",
     "iopub.status.idle": "2024-06-23T23:16:13.983869Z",
     "shell.execute_reply": "2024-06-23T23:16:13.982993Z",
     "shell.execute_reply.started": "2024-06-23T23:16:11.635281Z"
    }
   },
   "outputs": [
    {
     "name": "stdout",
     "output_type": "stream",
     "text": [
      "RMSE: 0.9029\n"
     ]
    },
    {
     "data": {
      "text/plain": [
       "0.9028869113000664"
      ]
     },
     "execution_count": 36,
     "metadata": {},
     "output_type": "execute_result"
    }
   ],
   "source": [
    "# Predict ratings for the validation set (optional, for evaluation)\n",
    "predictions = svd.test(testset)\n",
    "accuracy.rmse(predictions)"
   ]
  },
  {
   "cell_type": "markdown",
   "metadata": {},
   "source": [
    "### Predicting Ratings for the Test Set\n",
    "\n",
    "In this step, I am using the trained SVD model `svd` to predict ratings for the test set. This involves:\n",
    "\n",
    "1. Applying the `predict` method of the SVD model to each row of the test set DataFrame `test`.\n",
    "2. Using a lambda function to predict the rating for each user-movie pair in the test set based on their userId and movieId.\n",
    "3. Storing the predicted ratings in a new column 'rating' in the test set DataFrame.\n",
    "\n",
    "By predicting ratings for the test set, we can generate recommendations and assess the model's performance on unseen data.\n",
    "\n",
    "Let's proceed with predicting ratings for the test set using the trained SVD model.\n"
   ]
  },
  {
   "cell_type": "code",
   "execution_count": 37,
   "metadata": {
    "execution": {
     "iopub.execute_input": "2024-06-23T23:16:18.581483Z",
     "iopub.status.busy": "2024-06-23T23:16:18.581121Z",
     "iopub.status.idle": "2024-06-23T23:18:14.252510Z",
     "shell.execute_reply": "2024-06-23T23:18:14.251610Z",
     "shell.execute_reply.started": "2024-06-23T23:16:18.581454Z"
    }
   },
   "outputs": [],
   "source": [
    "# Predict ratings for the test set\n",
    "test['rating'] = test.apply(lambda x: svd.predict(x['userId'], x['movieId']).est, axis=1)"
   ]
  },
  {
   "cell_type": "markdown",
   "metadata": {},
   "source": [
    "### Generating the Submission File\n",
    "\n",
    "In this step, I am generating the submission file in CSV format based on the predicted ratings for the test set. This involves:\n",
    "\n",
    "1. Creating a new column 'Id' in the test set DataFrame `test` by concatenating the 'userId' and 'movieId' columns with an underscore separator.\n",
    "2. Using a lambda function with the `apply` method to create the 'Id' column.\n",
    "3. Creating a new DataFrame `submission` containing only the 'Id' and 'rating' columns from the test set.\n",
    "4. Saving the submission DataFrame to a CSV file named 'submission.csv' with headers 'Id' and 'rating', and excluding the index column.\n",
    "\n",
    "By generating the submission file, we can submit our predictions for evaluation or use them in downstream tasks.\n",
    "\n",
    "Let's proceed with generating the submission file in CSV format.\n"
   ]
  },
  {
   "cell_type": "code",
   "execution_count": 18,
   "metadata": {
    "execution": {
     "iopub.execute_input": "2024-06-21T15:33:04.997039Z",
     "iopub.status.busy": "2024-06-21T15:33:04.996661Z",
     "iopub.status.idle": "2024-06-21T15:34:34.605984Z",
     "shell.execute_reply": "2024-06-21T15:34:34.604966Z",
     "shell.execute_reply.started": "2024-06-21T15:33:04.997010Z"
    }
   },
   "outputs": [],
   "source": [
    "# Generate the submission file\n",
    "test['Id'] = test.apply(lambda x: f\"{x['userId']}_{x['movieId']}\", axis=1)\n",
    "submission = test[['Id', 'rating']]\n",
    "submission.to_csv('submission.csv', header=['Id', 'rating'], index=False)"
   ]
  },
  {
   "cell_type": "markdown",
   "metadata": {},
   "source": [
    "### Reading the Submission File\n",
    "\n",
    "Reading the 'submission.csv' file into a DataFrame named `submission_df` using pandas `read_csv` function.\n"
   ]
  },
  {
   "cell_type": "code",
   "execution_count": 16,
   "metadata": {
    "execution": {
     "iopub.execute_input": "2024-06-21T15:27:46.995506Z",
     "iopub.status.busy": "2024-06-21T15:27:46.994768Z",
     "iopub.status.idle": "2024-06-21T15:27:50.585274Z",
     "shell.execute_reply": "2024-06-21T15:27:50.584470Z",
     "shell.execute_reply.started": "2024-06-21T15:27:46.995475Z"
    }
   },
   "outputs": [],
   "source": [
    "submission_df = pd.read_csv(\"submission.csv\")"
   ]
  },
  {
   "cell_type": "markdown",
   "metadata": {},
   "source": [
    "### Checking Dimensions of Submission File\n",
    "\n",
    "I am checking the dimensions (number of rows and columns) of the DataFrame `submission_df` using the `.shape` attribute to ensure it has the correct structure as intended.\n"
   ]
  },
  {
   "cell_type": "code",
   "execution_count": 20,
   "metadata": {
    "execution": {
     "iopub.execute_input": "2024-06-21T15:36:53.453891Z",
     "iopub.status.busy": "2024-06-21T15:36:53.452625Z",
     "iopub.status.idle": "2024-06-21T15:36:53.460942Z",
     "shell.execute_reply": "2024-06-21T15:36:53.459303Z",
     "shell.execute_reply.started": "2024-06-21T15:36:53.453847Z"
    }
   },
   "outputs": [
    {
     "data": {
      "text/plain": [
       "(5000019, 2)"
      ]
     },
     "execution_count": 20,
     "metadata": {},
     "output_type": "execute_result"
    }
   ],
   "source": [
    "submission_df.shape"
   ]
  },
  {
   "cell_type": "markdown",
   "metadata": {},
   "source": [
    "### Viewing the DataFrame\n",
    "\n",
    "Here i check if the structure of the submission DataFrame `submission_df` using the `.head()` attribute to ensure it is correct by viewing the first few rows of the DataFrame"
   ]
  },
  {
   "cell_type": "code",
   "execution_count": 19,
   "metadata": {
    "execution": {
     "iopub.execute_input": "2024-06-21T15:35:40.387372Z",
     "iopub.status.busy": "2024-06-21T15:35:40.386551Z",
     "iopub.status.idle": "2024-06-21T15:35:40.396682Z",
     "shell.execute_reply": "2024-06-21T15:35:40.395812Z",
     "shell.execute_reply.started": "2024-06-21T15:35:40.387339Z"
    }
   },
   "outputs": [
    {
     "data": {
      "text/html": [
       "<div>\n",
       "<style scoped>\n",
       "    .dataframe tbody tr th:only-of-type {\n",
       "        vertical-align: middle;\n",
       "    }\n",
       "\n",
       "    .dataframe tbody tr th {\n",
       "        vertical-align: top;\n",
       "    }\n",
       "\n",
       "    .dataframe thead th {\n",
       "        text-align: right;\n",
       "    }\n",
       "</style>\n",
       "<table border=\"1\" class=\"dataframe\">\n",
       "  <thead>\n",
       "    <tr style=\"text-align: right;\">\n",
       "      <th></th>\n",
       "      <th>Id</th>\n",
       "      <th>rating</th>\n",
       "    </tr>\n",
       "  </thead>\n",
       "  <tbody>\n",
       "    <tr>\n",
       "      <th>0</th>\n",
       "      <td>1.0_2011.0</td>\n",
       "      <td>3.659749</td>\n",
       "    </tr>\n",
       "    <tr>\n",
       "      <th>1</th>\n",
       "      <td>1.0_4144.0</td>\n",
       "      <td>4.145818</td>\n",
       "    </tr>\n",
       "    <tr>\n",
       "      <th>2</th>\n",
       "      <td>1.0_5767.0</td>\n",
       "      <td>3.569102</td>\n",
       "    </tr>\n",
       "    <tr>\n",
       "      <th>3</th>\n",
       "      <td>1.0_6711.0</td>\n",
       "      <td>3.857424</td>\n",
       "    </tr>\n",
       "    <tr>\n",
       "      <th>4</th>\n",
       "      <td>1.0_7318.0</td>\n",
       "      <td>3.322861</td>\n",
       "    </tr>\n",
       "  </tbody>\n",
       "</table>\n",
       "</div>"
      ],
      "text/plain": [
       "           Id    rating\n",
       "0  1.0_2011.0  3.659749\n",
       "1  1.0_4144.0  4.145818\n",
       "2  1.0_5767.0  3.569102\n",
       "3  1.0_6711.0  3.857424\n",
       "4  1.0_7318.0  3.322861"
      ]
     },
     "execution_count": 19,
     "metadata": {},
     "output_type": "execute_result"
    }
   ],
   "source": [
    "submission_df.head()"
   ]
  },
  {
   "cell_type": "code",
   "execution_count": null,
   "metadata": {},
   "outputs": [],
   "source": []
  }
 ],
 "metadata": {
  "kaggle": {
   "accelerator": "gpu",
   "dataSources": [
    {
     "databundleVersionId": 8778365,
     "sourceId": 81285,
     "sourceType": "competition"
    }
   ],
   "dockerImageVersionId": 30732,
   "isGpuEnabled": true,
   "isInternetEnabled": true,
   "language": "python",
   "sourceType": "notebook"
  },
  "kernelspec": {
   "display_name": "Python 3 (ipykernel)",
   "language": "python",
   "name": "python3"
  },
  "language_info": {
   "codemirror_mode": {
    "name": "ipython",
    "version": 3
   },
   "file_extension": ".py",
   "mimetype": "text/x-python",
   "name": "python",
   "nbconvert_exporter": "python",
   "pygments_lexer": "ipython3",
   "version": "3.11.5"
  }
 },
 "nbformat": 4,
 "nbformat_minor": 4
}
